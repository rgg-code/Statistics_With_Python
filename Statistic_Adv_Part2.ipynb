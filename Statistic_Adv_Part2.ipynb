{
  "nbformat": 4,
  "nbformat_minor": 0,
  "metadata": {
    "colab": {
      "provenance": []
    },
    "kernelspec": {
      "name": "python3",
      "display_name": "Python 3"
    },
    "language_info": {
      "name": "python"
    }
  },
  "cells": [
    {
      "cell_type": "markdown",
      "source": [
        "Statistics Part 2\n",
        "\n",
        "Practical"
      ],
      "metadata": {
        "id": "GuRL_E8stOev"
      }
    },
    {
      "cell_type": "markdown",
      "source": [
        "1. Write a Python program to perform a Z-test for comparing a sample mean to a known population mean and\n",
        "interpret the results?"
      ],
      "metadata": {
        "id": "H9uh8rZ1uLL8"
      }
    },
    {
      "cell_type": "code",
      "execution_count": 1,
      "metadata": {
        "id": "xbCMwjA3sd9b",
        "colab": {
          "base_uri": "https://localhost:8080/"
        },
        "outputId": "ee38eba0-350b-4f50-91e1-8d06cde14fce"
      },
      "outputs": [
        {
          "output_type": "stream",
          "name": "stdout",
          "text": [
            "Z-statistic: 0.9428090415820635\n",
            "P-value: 0.3457785861511603\n",
            "Fail to reject the null hypothesis. There is no evidence that the sample mean is significantly different from the population mean.\n"
          ]
        }
      ],
      "source": [
        "import scipy.stats as stats\n",
        "\n",
        "def z_test_sample_mean(sample_mean, population_mean, population_std, sample_size):\n",
        "  \"\"\"\n",
        "  Performs a one-sample Z-test.\n",
        "\n",
        "  Args:\n",
        "    sample_mean: Sample mean.\n",
        "    population_mean: Population mean.\n",
        "    population_std: Population standard deviation.\n",
        "    sample_size: Sample size.\n",
        "\n",
        "  Returns:\n",
        "    z_statistic: Calculated Z-statistic.\n",
        "    p_value: P-value of the test.\n",
        "  \"\"\"\n",
        "  z_statistic = (sample_mean - population_mean) / (population_std / (sample_size ** 0.5))\n",
        "  p_value = stats.norm.sf(abs(z_statistic)) * 2  # Two-tailed test\n",
        "\n",
        "  return z_statistic, p_value\n",
        "\n",
        "# Example usage\n",
        "sample_mean = 102\n",
        "population_mean = 100\n",
        "population_std = 15\n",
        "sample_size = 50\n",
        "\n",
        "z_stat, p_value = z_test_sample_mean(sample_mean, population_mean, population_std, sample_size)\n",
        "\n",
        "print(f\"Z-statistic: {z_stat}\")\n",
        "print(f\"P-value: {p_value}\")\n",
        "\n",
        "# Interpret the results\n",
        "alpha = 0.05  # Significance level\n",
        "if p_value < alpha:\n",
        "  print(\"Reject the null hypothesis. There is evidence that the sample mean is significantly different from the population mean.\")\n",
        "else:\n",
        "  print(\"Fail to reject the null hypothesis. There is no evidence that the sample mean is significantly different from the population mean.\")"
      ]
    },
    {
      "cell_type": "markdown",
      "source": [
        "2. Simulate random data to perform hypothesis testing and calculate the corresponding P-value using Python?"
      ],
      "metadata": {
        "id": "D3qgqyD4uQK8"
      }
    },
    {
      "cell_type": "code",
      "source": [
        "import numpy as np\n",
        "import scipy.stats as stats\n",
        "\n",
        "def simulate_and_test(population_mean, population_std, sample_size, num_simulations, alpha):\n",
        "  \"\"\"\n",
        "  Simulates data, performs hypothesis testing, and calculates P-values.\n",
        "\n",
        "  Args:\n",
        "    population_mean: Population mean.\n",
        "    population_std: Population standard deviation.\n",
        "    sample_size: Sample size.\n",
        "    num_simulations: Number of simulations to run.\n",
        "    alpha: Significance level.\n",
        "\n",
        "  Returns:\n",
        "    p_values: List of P-values from each simulation.\n",
        "  \"\"\"\n",
        "  p_values = []\n",
        "  for _ in range(num_simulations):\n",
        "    sample = np.random.normal(loc=population_mean, scale=population_std, size=sample_size)\n",
        "    sample_mean = np.mean(sample)\n",
        "    z_statistic = (sample_mean - population_mean) / (population_std / (sample_size ** 0.5))\n",
        "    p_value = stats.norm.sf(abs(z_statistic)) * 2  # Two-tailed test\n",
        "    p_values.append(p_value)\n",
        "\n",
        "  return p_values\n",
        "\n",
        "# Example usage\n",
        "population_mean = 50\n",
        "population_std = 10\n",
        "sample_size = 30\n",
        "num_simulations = 1000\n",
        "alpha = 0.05\n",
        "\n",
        "p_values = simulate_and_test(population_mean, population_std, sample_size, num_simulations, alpha)\n",
        "\n",
        "# Analyze the results (e.g., calculate the proportion of P-values below alpha)\n",
        "num_rejections = sum(p <= alpha for p in p_values)\n",
        "rejection_rate = num_rejections / num_simulations\n",
        "print(f\"Rejection rate: {rejection_rate}\")"
      ],
      "metadata": {
        "id": "dV2BtGANuRsC",
        "colab": {
          "base_uri": "https://localhost:8080/"
        },
        "outputId": "b499739d-003f-448d-821d-5e394a4ae46d"
      },
      "execution_count": 2,
      "outputs": [
        {
          "output_type": "stream",
          "name": "stdout",
          "text": [
            "Rejection rate: 0.043\n"
          ]
        }
      ]
    },
    {
      "cell_type": "markdown",
      "source": [
        "3. Implement a one-sample Z-test using Python to compare the sample mean with the population mean."
      ],
      "metadata": {
        "id": "JmZp-2tczSkG"
      }
    },
    {
      "cell_type": "code",
      "source": [
        "import scipy.stats as stats\n",
        "\n",
        "def z_test_sample_mean(sample_mean, population_mean, population_std, sample_size):\n",
        "  \"\"\"\n",
        "  Performs a one-sample Z-test.\n",
        "\n",
        "  Args:\n",
        "    sample_mean: Sample mean.\n",
        "    population_mean: Population mean.\n",
        "    population_std: Population standard deviation.\n",
        "    sample_size: Sample size.\n",
        "\n",
        "  Returns:\n",
        "    z_statistic: Calculated Z-statistic.\n",
        "    p_value: P-value of the test.\n",
        "  \"\"\"\n",
        "  z_statistic = (sample_mean - population_mean) / (population_std / (sample_size ** 0.5))\n",
        "  p_value = stats.norm.sf(abs(z_statistic)) * 2  # Two-tailed test\n",
        "\n",
        "  return z_statistic, p_value\n",
        "\n",
        "# Example usage\n",
        "sample_mean = 102\n",
        "population_mean = 100\n",
        "population_std = 15\n",
        "sample_size = 50\n",
        "\n",
        "z_stat, p_value = z_test_sample_mean(sample_mean, population_mean, population_std, sample_size)\n",
        "\n",
        "print(f\"Z-statistic: {z_stat}\")\n",
        "print(f\"P-value: {p_value}\")\n",
        "\n",
        "# Interpret the results\n",
        "alpha = 0.05  # Significance level\n",
        "if p_value < alpha:\n",
        "  print(\"Reject the null hypothesis. There is evidence that the sample mean is significantly different from the population mean.\")\n",
        "else:\n",
        "  print(\"Fail to reject the null hypothesis. There is no evidence that the sample mean is significantly different from the population mean.\")"
      ],
      "metadata": {
        "id": "858iiyM3zUM8",
        "colab": {
          "base_uri": "https://localhost:8080/"
        },
        "outputId": "20f88015-c19a-45a1-f0ba-67c539db94fd"
      },
      "execution_count": 3,
      "outputs": [
        {
          "output_type": "stream",
          "name": "stdout",
          "text": [
            "Z-statistic: 0.9428090415820635\n",
            "P-value: 0.3457785861511603\n",
            "Fail to reject the null hypothesis. There is no evidence that the sample mean is significantly different from the population mean.\n"
          ]
        }
      ]
    },
    {
      "cell_type": "markdown",
      "source": [
        "4. Perform a two-tailed Z-test using Python and visualize the decision region on a plot."
      ],
      "metadata": {
        "id": "bGn1Hw7CzWzg"
      }
    },
    {
      "cell_type": "code",
      "source": [
        "import matplotlib.pyplot as plt\n",
        "\n",
        "# ... (Code from task 1 for z_test_sample_mean) ...\n",
        "\n",
        "# Example usage\n",
        "# ... (Same as in task 1) ...\n",
        "\n",
        "# Visualize the decision region\n",
        "z_critical = stats.norm.ppf(1 - alpha / 2)  # Critical value for two-tailed test\n",
        "x = np.linspace(-4, 4, 1000)\n",
        "plt.plot(x, stats.norm.pdf(x))\n",
        "plt.axvline(x=z_critical, color='red', linestyle='--')\n",
        "plt.axvline(x=-z_critical, color='red', linestyle='--')\n",
        "plt.axvline(x=z_stat, color='green', linestyle='-')\n",
        "plt.fill_between(x, 0, stats.norm.pdf(x), where=(x > z_critical), color='red', alpha=0.2)\n",
        "plt.fill_between(x, 0, stats.norm.pdf(x), where=(x < -z_critical), color='red', alpha=0.2)\n",
        "plt.xlabel('Z-score')\n",
        "plt.ylabel('Probability Density')\n",
        "plt.title('Two-tailed Z-test')\n",
        "plt.show()"
      ],
      "metadata": {
        "id": "kfD4sL36zYae",
        "colab": {
          "base_uri": "https://localhost:8080/",
          "height": 472
        },
        "outputId": "0f51f0e1-bd56-470e-c551-d1d8efd70810"
      },
      "execution_count": 4,
      "outputs": [
        {
          "output_type": "display_data",
          "data": {
            "text/plain": [
              "<Figure size 640x480 with 1 Axes>"
            ],
            "image/png": "[encoded data removed]"
          },
          "metadata": {}
        }
      ]
    },
    {
      "cell_type": "markdown",
      "source": [
        "5.  Create a Python function that calculates and visualizes Type 1 and Type 2 errors during hypothesis testing."
      ],
      "metadata": {
        "id": "WpQ890cczbj5"
      }
    },
    {
      "cell_type": "code",
      "source": [
        "import numpy as np\n",
        "import scipy.stats as stats\n",
        "\n",
        "def simulate_type_errors(population_mean, population_std, sample_size, alpha, true_mean_shift=0, num_simulations=1000):\n",
        "  \"\"\"\n",
        "  Simulates Type 1 and Type 2 errors.\n",
        "\n",
        "  Args:\n",
        "    population_mean: Population mean under the null hypothesis.\n",
        "    population_std: Population standard deviation.\n",
        "    sample_size: Sample size.\n",
        "    alpha: Significance level.\n",
        "    true_mean_shift: The true difference in means (for Type 2 error simulation).\n",
        "    num_simulations: Number of simulations to run.\n",
        "\n",
        "  Returns:\n",
        "    type_1_error_rate: Estimated Type 1 error rate.\n",
        "    type_2_error_rate: Estimated Type 2 error rate.\n",
        "  \"\"\"\n",
        "  type_1_errors = 0\n",
        "  type_2_errors = 0\n",
        "\n",
        "  # Simulate Type 1 errors\n",
        "  for _ in range(num_simulations):\n",
        "    sample = np.random.normal(loc=population_mean, scale=population_std, size=sample_size)\n",
        "    sample_mean = np.mean(sample)\n",
        "    z_statistic = (sample_mean - population_mean) / (population_std / (sample_size ** 0.5))\n",
        "    p_value = stats.norm.sf(abs(z_statistic)) * 2\n",
        "    if p_value <= alpha:\n",
        "      type_1_errors += 1\n",
        "\n",
        "  # Simulate Type 2 errors\n",
        "  for _ in range(num_simulations):\n",
        "    sample = np.random.normal(loc=population_mean + true_mean_shift, scale=population_std, size=sample_size)\n",
        "    sample_mean = np.mean(sample)\n",
        "    z_statistic = (sample_mean - population_mean) / (population_std / (sample_size ** 0.5))\n",
        "    p_value = stats.norm.sf(abs(z_statistic)) * 2\n",
        "    if p_value > alpha:\n",
        "      type_2_errors += 1\n",
        "\n",
        "  type_1_error_rate = type_1_errors / num_simulations\n",
        "  type_2_error_rate = type_2_errors / num_simulations\n",
        "\n",
        "  return type_1_error_rate, type_2_error_rate\n",
        "\n",
        "# Example usage\n",
        "population_mean = 50\n",
        "population_std = 10\n",
        "sample_size = 30\n",
        "alpha = 0.05\n",
        "true_mean_shift = 5\n",
        "\n",
        "type_1_error, type_2_error = simulate_type_errors(population_mean, population_std, sample_size, alpha, true_mean_shift)\n",
        "print(f\"Estimated Type 1 error rate: {type_1_error}\")\n",
        "print(f\"Estimated Type 2 error rate: {type_2_error}\")"
      ],
      "metadata": {
        "id": "d51ZHJaczdEF",
        "colab": {
          "base_uri": "https://localhost:8080/"
        },
        "outputId": "11f17262-c59c-4049-e072-e68fbcfca0e4"
      },
      "execution_count": 5,
      "outputs": [
        {
          "output_type": "stream",
          "name": "stdout",
          "text": [
            "Estimated Type 1 error rate: 0.048\n",
            "Estimated Type 2 error rate: 0.219\n"
          ]
        }
      ]
    },
    {
      "cell_type": "markdown",
      "source": [
        "6.  Write a Python program to perform an independent T-test and interpret the results."
      ],
      "metadata": {
        "id": "gxzlgS8izfax"
      }
    },
    {
      "cell_type": "code",
      "source": [
        "import scipy.stats as stats\n",
        "\n",
        "def independent_t_test(sample1, sample2, alpha=0.05):\n",
        "  \"\"\"\n",
        "  Performs an independent two-sample T-test.\n",
        "\n",
        "  Args:\n",
        "    sample1: First sample data.\n",
        "    sample2: Second sample data.\n",
        "    alpha: Significance level (default: 0.05).\n",
        "\n",
        "  Returns:\n",
        "    t_statistic: Calculated T-statistic.\n",
        "    p_value: P-value of the test.\n",
        "\n",
        "  Prints:\n",
        "    The calculated T-statistic and p-value.\n",
        "    Interpretation of the results based on the p-value and significance level.\n",
        "  \"\"\"\n",
        "  t_statistic, p_value = stats.ttest_ind(sample1, sample2)\n",
        "\n",
        "  print(f\"T-statistic: {t_statistic:.4f}\")\n",
        "  print(f\"P-value: {p_value:.4f}\")\n",
        "\n",
        "  if p_value < alpha:\n",
        "    print(f\"Reject the null hypothesis. There is evidence that the means of the two samples are significantly different at the {alpha*100:.0f}% significance level.\")\n",
        "  else:\n",
        "    print(f\"Fail to reject the null hypothesis. There is no evidence that the means of the two samples are significantly different at the {alpha*100:.0f}% significance level.\")\n",
        "\n",
        "# Example usage\n",
        "sample1 = [10, 12, 15, 18, 20]\n",
        "sample2 = [8, 10, 11, 13, 14]\n",
        "\n",
        "independent_t_test(sample1, sample2)"
      ],
      "metadata": {
        "id": "XEAs-ISFzhiD",
        "colab": {
          "base_uri": "https://localhost:8080/"
        },
        "outputId": "22d5f429-15f5-4783-caef-e650492d825e"
      },
      "execution_count": 29,
      "outputs": [
        {
          "output_type": "stream",
          "name": "stdout",
          "text": [
            "T-statistic: 1.7834\n",
            "P-value: 0.1124\n",
            "Fail to reject the null hypothesis. There is no evidence that the means of the two samples are significantly different at the 5% significance level.\n"
          ]
        }
      ]
    },
    {
      "cell_type": "markdown",
      "source": [
        "7.  Perform a paired sample T-test using Python and visualize the comparison results."
      ],
      "metadata": {
        "id": "Vhj_WyaOzkKL"
      }
    },
    {
      "cell_type": "code",
      "source": [
        "import scipy.stats as stats\n",
        "import matplotlib.pyplot as plt\n",
        "\n",
        "def paired_t_test(sample1, sample2):\n",
        "  \"\"\"\n",
        "  Performs a paired sample T-test.\n",
        "\n",
        "  Args:\n",
        "    sample1: First sample.\n",
        "    sample2: Second sample (paired with sample1).\n",
        "\n",
        "  Returns:\n",
        "    t_statistic: Calculated T-statistic.\n",
        "    p_value: P-value of the test.\n",
        "  \"\"\"\n",
        "  t_statistic, p_value = stats.ttest_rel(sample1, sample2)\n",
        "  return t_statistic, p_value\n",
        "\n",
        "# Example usage\n",
        "sample1 = [10, 12, 15, 18, 20]\n",
        "sample2 = [11, 13, 16, 19, 22]\n",
        "\n",
        "t_stat, p_value = paired_t_test(sample1, sample2)\n",
        "\n",
        "print(f\"T-statistic: {t_stat}\")\n",
        "print(f\"P-value: {p_value}\")\n",
        "\n",
        "# Visualize the differences\n",
        "differences = np.array(sample1) - np.array(sample2)\n",
        "plt.hist(differences, bins=10)\n",
        "plt.xlabel('Differences')\n",
        "plt.ylabel('Frequency')\n",
        "plt.title('Histogram of Differences')\n",
        "plt.show()"
      ],
      "metadata": {
        "id": "6l3yqQz0zleG",
        "colab": {
          "base_uri": "https://localhost:8080/",
          "height": 507
        },
        "outputId": "632b6d39-df3d-4f5e-88c5-7671034641f0"
      },
      "execution_count": 7,
      "outputs": [
        {
          "output_type": "stream",
          "name": "stdout",
          "text": [
            "T-statistic: -5.999999999999999\n",
            "P-value: 0.003882537046960512\n"
          ]
        },
        {
          "output_type": "display_data",
          "data": {
            "text/plain": [
              "<Figure size 640x480 with 1 Axes>"
            ],
            "image/png": "[encoded data removed]"
          },
          "metadata": {}
        }
      ]
    },
    {
      "cell_type": "markdown",
      "source": [
        "8. Simulate data and perform both Z-test and T-test, then compare the results using Python."
      ],
      "metadata": {
        "id": "3NH3lQdLzoWr"
      }
    },
    {
      "cell_type": "code",
      "source": [
        "import numpy as np\n",
        "import scipy.stats as stats\n",
        "\n",
        "def compare_z_t_tests(population_mean, population_std, sample_size, num_simulations, alpha):\n",
        "  \"\"\"\n",
        "  Simulates data and compares Z-test and T-test results.\n",
        "\n",
        "  Args:\n",
        "    population_mean: Population mean.\n",
        "    population_std: Population standard deviation.\n",
        "    sample_size: Sample size.\n",
        "    num_simulations: Number of simulations to run.\n",
        "    alpha: Significance level.\n",
        "\n",
        "  Returns:\n",
        "    z_test_rejections: Number of rejections by Z-test.\n",
        "    t_test_rejections: Number of rejections by T-test.\n",
        "  \"\"\"\n",
        "  z_test_rejections = 0\n",
        "  t_test_rejections = 0\n",
        "\n",
        "  for _ in range(num_simulations):\n",
        "    sample = np.random.normal(loc=population_mean, scale=population_std, size=sample_size)\n",
        "    sample_mean = np.mean(sample)\n",
        "    sample_std = np.std(sample, ddof=1)  # Sample standard deviation\n",
        "\n",
        "    # Z-test (assuming population standard deviation is known)\n",
        "    z_statistic = (sample_mean - population_mean) / (population_std / (sample_size ** 0.5))\n",
        "    z_p_value = stats.norm.sf(abs(z_statistic)) * 2\n",
        "    if z_p_value <= alpha:\n",
        "      z_test_rejections += 1\n",
        "\n",
        "    # T-test (assuming population standard deviation is unknown)\n",
        "    t_statistic = (sample_mean - population_mean) / (sample_std / (sample_size ** 0.5))\n",
        "    t_p_value = stats.t.sf(abs(t_statistic), df=sample_size - 1) * 2\n",
        "    if t_p_value <= alpha:\n",
        "      t_test_rejections += 1\n",
        "\n",
        "  return z_test_rejections, t_test_rejections\n",
        "\n",
        "# Example usage\n",
        "population_mean = 50\n",
        "population_std = 10\n",
        "sample_size = 20\n",
        "num_simulations = 1000\n",
        "alpha = 0.05\n",
        "\n",
        "z_rejections, t_rejections = compare_z_t_tests(population_mean, population_std, sample_size, num_simulations, alpha)\n",
        "\n",
        "print(f\"Z-test rejections: {z_rejections}\")\n",
        "print(f\"T-test rejections: {t_rejections}\")"
      ],
      "metadata": {
        "id": "dANdnx8Tzp_D",
        "colab": {
          "base_uri": "https://localhost:8080/"
        },
        "outputId": "8c94b040-bba1-4ddb-a4ac-c5f34a0f4b69"
      },
      "execution_count": 8,
      "outputs": [
        {
          "output_type": "stream",
          "name": "stdout",
          "text": [
            "Z-test rejections: 63\n",
            "T-test rejections: 55\n"
          ]
        }
      ]
    },
    {
      "cell_type": "markdown",
      "source": [
        "9.  Write a Python function to calculate the confidence interval for a sample mean and explain its significance."
      ],
      "metadata": {
        "id": "llhTxdg1zsyy"
      }
    },
    {
      "cell_type": "code",
      "source": [
        "import scipy.stats as stats\n",
        "\n",
        "def confidence_interval(sample, confidence_level=0.95):\n",
        "  \"\"\"\n",
        "  Calculates the confidence interval for a sample mean.\n",
        "\n",
        "  Args:\n",
        "    sample: Sample data.\n",
        "    confidence_level: Desired confidence level (default: 0.95).\n",
        "\n",
        "  Returns:\n",
        "    lower_bound: Lower bound of the confidence interval.\n",
        "    upper_bound: Upper bound of the confidence interval.\n",
        "  \"\"\"\n",
        "  sample_mean = np.mean(sample)\n",
        "  sample_std = np.std(sample, ddof=1)  # Sample standard deviation\n",
        "  n = len(sample)\n",
        "  t_critical = stats.t.ppf((1 + confidence_level) / 2, df=n - 1)\n",
        "  margin_of_error = t_critical * (sample_std / np.sqrt(n))\n",
        "  lower_bound = sample_mean - margin_of_error\n",
        "  upper_bound = sample_mean + margin_of_error\n",
        "\n",
        "  return lower_bound, upper_bound\n",
        "\n",
        "# Example usage\n",
        "sample = [10, 12, 15, 18, 20]\n",
        "confidence_level = 0.95\n",
        "\n",
        "lower, upper = confidence_interval(sample, confidence_level)\n",
        "print(f\"Confidence interval: ({lower:.2f}, {upper:.2f})\")"
      ],
      "metadata": {
        "id": "KtRJDWM2zuJZ",
        "colab": {
          "base_uri": "https://localhost:8080/"
        },
        "outputId": "ef75731c-272f-4554-cd3d-2cab6cead929"
      },
      "execution_count": 9,
      "outputs": [
        {
          "output_type": "stream",
          "name": "stdout",
          "text": [
            "Confidence interval: (9.88, 20.12)\n"
          ]
        }
      ]
    },
    {
      "cell_type": "markdown",
      "source": [
        "10. Write a Python program to calculate the margin of error for a given confidence level using sample data."
      ],
      "metadata": {
        "id": "XRbSFE8izxm5"
      }
    },
    {
      "cell_type": "code",
      "source": [
        "import scipy.stats as stats\n",
        "\n",
        "def margin_of_error(sample, confidence_level=0.95):\n",
        "  \"\"\"\n",
        "  Calculates the margin of error for a given confidence level.\n",
        "\n",
        "  Args:\n",
        "    sample: Sample data.\n",
        "    confidence_level: Desired confidence level (default: 0.95).\n",
        "\n",
        "  Returns:\n",
        "    margin_of_error: Margin of error.\n",
        "  \"\"\"\n",
        "  sample_std = np.std(sample, ddof=1)  # Sample standard deviation\n",
        "  n = len(sample)\n",
        "  t_critical = stats.t.ppf((1 + confidence_level) / 2, df=n - 1)\n",
        "  margin_of_error = t_critical * (sample_std / np.sqrt(n))\n",
        "  return margin_of_error\n",
        "\n",
        "# Example usage\n",
        "sample = [10, 12, 15, 18, 20]\n",
        "confidence_level = 0.95\n",
        "\n",
        "margin_error = margin_of_error(sample, confidence_level)\n",
        "print(f\"Margin of error: {margin_error:.2f}\")"
      ],
      "metadata": {
        "id": "vncFIPNczyzQ",
        "colab": {
          "base_uri": "https://localhost:8080/"
        },
        "outputId": "6e217e99-238f-4990-84e0-b464eec4d8da"
      },
      "execution_count": 10,
      "outputs": [
        {
          "output_type": "stream",
          "name": "stdout",
          "text": [
            "Margin of error: 5.12\n"
          ]
        }
      ]
    },
    {
      "cell_type": "markdown",
      "source": [
        "11. Implement a Bayesian inference method using Bayes' Theorem in Python and explain the process."
      ],
      "metadata": {
        "id": "SN_0yY4vz1-C"
      }
    },
    {
      "cell_type": "code",
      "source": [
        "import numpy as np\n",
        "import matplotlib.pyplot as plt\n",
        "from scipy.stats import beta\n",
        "\n",
        "def bayesian_inference(prior_alpha, prior_beta, successes, trials):\n",
        "  \"\"\"\n",
        "  Performs Bayesian inference for the probability of success in a binomial experiment.\n",
        "\n",
        "  Args:\n",
        "    prior_alpha: Alpha parameter of the Beta prior distribution.\n",
        "    prior_beta: Beta parameter of the Beta prior distribution.\n",
        "    successes: Number of successes observed in the data.\n",
        "    trials: Total number of trials.\n",
        "\n",
        "  Returns:\n",
        "    posterior_alpha: Alpha parameter of the Beta posterior distribution.\n",
        "    posterior_beta: Beta parameter of the Beta posterior distribution.\n",
        "  \"\"\"\n",
        "  posterior_alpha = prior_alpha + successes\n",
        "  posterior_beta = prior_beta + (trials - successes)\n",
        "  return posterior_alpha, posterior_beta\n",
        "\n",
        "# Example Usage\n",
        "# Prior belief: Assume a fair coin (prior_alpha = 1, prior_beta = 1)\n",
        "prior_alpha = 1\n",
        "prior_beta = 1\n",
        "\n",
        "# Observed data: 10 coin flips, 6 heads\n",
        "successes = 6\n",
        "trials = 10\n",
        "\n",
        "# Perform Bayesian inference\n",
        "posterior_alpha, posterior_beta = bayesian_inference(prior_alpha, prior_beta, successes, trials)\n",
        "\n",
        "# Visualize prior and posterior distributions\n",
        "x = np.linspace(0, 1, 100)\n",
        "prior_dist = beta.pdf(x, prior_alpha, prior_beta)\n",
        "posterior_dist = beta.pdf(x, posterior_alpha, posterior_beta)\n",
        "\n",
        "plt.plot(x, prior_dist, label='Prior')\n",
        "plt.plot(x, posterior_dist, label='Posterior')\n",
        "plt.xlabel('Probability of Heads')\n",
        "plt.ylabel('Probability Density')\n",
        "plt.legend()\n",
        "plt.show()\n",
        "\n",
        "print(f\"Prior: Beta({prior_alpha}, {prior_beta})\")\n",
        "print(f\"Posterior: Beta({posterior_alpha}, {posterior_beta})\")"
      ],
      "metadata": {
        "id": "oZServ1Tz3Ry",
        "colab": {
          "base_uri": "https://localhost:8080/",
          "height": 484
        },
        "outputId": "9dfd933f-a119-4bb7-95a2-4c0c012d6072"
      },
      "execution_count": 30,
      "outputs": [
        {
          "output_type": "display_data",
          "data": {
            "text/plain": [
              "<Figure size 640x480 with 1 Axes>"
            ],
            "image/png": "[encoded data removed]"
          },
          "metadata": {}
        },
        {
          "output_type": "stream",
          "name": "stdout",
          "text": [
            "Prior: Beta(1, 1)\n",
            "Posterior: Beta(7, 5)\n"
          ]
        }
      ]
    },
    {
      "cell_type": "markdown",
      "source": [
        "12. Perform a Chi-square test for independence between two categorical variables in Python."
      ],
      "metadata": {
        "id": "XESs62Vuz5yU"
      }
    },
    {
      "cell_type": "code",
      "source": [
        "import pandas as pd\n",
        "from scipy.stats import chi2_contingency\n",
        "\n",
        "def chi_square_test_independence(data, variable1, variable2, alpha=0.05):\n",
        "  \"\"\"\n",
        "  Performs a Chi-square test of independence between two categorical variables.\n",
        "\n",
        "  Args:\n",
        "    data: Pandas DataFrame containing the data.\n",
        "    variable1: Name of the first categorical variable.\n",
        "    variable2: Name of the second categorical variable.\n",
        "    alpha: Significance level (default: 0.05).\n",
        "\n",
        "  Prints:\n",
        "    Chi-square statistic, p-value, degrees of freedom, and expected frequencies.\n",
        "    Interpretation of the results based on the p-value and significance level.\n",
        "\n",
        "  Returns:\n",
        "    chi2_stat: Chi-square statistic.\n",
        "    p_value: P-value of the test.\n",
        "    dof: Degrees of freedom.\n",
        "    expected: Expected frequencies.\n",
        "  \"\"\"\n",
        "  contingency_table = pd.crosstab(data[variable1], data[variable2])\n",
        "  chi2_stat, p_value, dof, expected = chi2_contingency(contingency_table)\n",
        "\n",
        "  print(\"Chi-square Statistic:\", chi2_stat)\n",
        "  print(\"P-value:\", p_value)\n",
        "  print(\"Degrees of Freedom:\", dof)\n",
        "  print(\"Expected Frequencies:\\n\", expected)\n",
        "\n",
        "  if p_value < alpha:\n",
        "    print(f\"Reject the null hypothesis. There is evidence of a significant association between {variable1} and {variable2} at the {alpha*100:.0f}% significance level.\")\n",
        "  else:\n",
        "    print(f\"Fail to reject the null hypothesis. There is no evidence of a significant association between {variable1} and {variable2} at the {alpha*100:.0f}% significance level.\")\n",
        "\n",
        "  return chi2_stat, p_value, dof, expected\n",
        "\n",
        "# Example Usage\n",
        "# Sample data (replace with your actual data)\n",
        "data = {'Gender': ['Male', 'Female', 'Male', 'Female', 'Male', 'Female', 'Male', 'Female'],\n",
        "        'Education': ['High School', 'Bachelor', 'Bachelor', 'High School', 'Master', 'PhD', 'High School', 'Bachelor']}\n",
        "df = pd.DataFrame(data)\n",
        "\n",
        "# Perform the Chi-square test\n",
        "chi2_stat, p_value, dof, expected = chi_square_test_independence(df, 'Gender', 'Education')"
      ],
      "metadata": {
        "id": "rCRjt3VTz7x1",
        "colab": {
          "base_uri": "https://localhost:8080/"
        },
        "outputId": "d6dd6338-8cbd-4421-d2ca-4e349e35c06d"
      },
      "execution_count": 13,
      "outputs": [
        {
          "output_type": "stream",
          "name": "stdout",
          "text": [
            "Chi-square Statistic: 2.6666666666666665\n",
            "P-value: 0.4459216983631228\n",
            "Degrees of Freedom: 3\n",
            "Expected Frequencies:\n",
            " [[1.5 1.5 0.5 0.5]\n",
            " [1.5 1.5 0.5 0.5]]\n",
            "Fail to reject the null hypothesis. There is no evidence of a significant association between Gender and Education at the 5% significance level.\n"
          ]
        }
      ]
    },
    {
      "cell_type": "markdown",
      "source": [
        "13. Write a Python program to calculate the expected frequencies for a Chi-square test based on observed\n",
        "data."
      ],
      "metadata": {
        "id": "BfrILSnWz-zY"
      }
    },
    {
      "cell_type": "code",
      "source": [
        "import numpy as np\n",
        "\n",
        "def calculate_expected_frequencies(observed_table):\n",
        "  \"\"\"\n",
        "  Calculates the expected frequencies for a Chi-square test.\n",
        "\n",
        "  Args:\n",
        "    observed_table: 2D array representing the observed frequencies.\n",
        "\n",
        "  Returns:\n",
        "    expected_table: 2D array representing the expected frequencies.\n",
        "  \"\"\"\n",
        "  row_sums = np.sum(observed_table, axis=1)\n",
        "  col_sums = np.sum(observed_table, axis=0)\n",
        "  total_sum = np.sum(observed_table)\n",
        "  expected_table = np.outer(row_sums, col_sums) / total_sum\n",
        "  return expected_table\n",
        "\n",
        "# Example usage\n",
        "observed_table = np.array([[20, 30], [15, 25]])\n",
        "expected_table = calculate_expected_frequencies(observed_table)\n",
        "print(expected_table)"
      ],
      "metadata": {
        "id": "js-NUJ8Az_-9",
        "colab": {
          "base_uri": "https://localhost:8080/"
        },
        "outputId": "61be8ffe-c85e-4d17-d6ae-9ee31f5d2360"
      },
      "execution_count": 9,
      "outputs": [
        {
          "output_type": "stream",
          "name": "stdout",
          "text": [
            "[[19.44444444 30.55555556]\n",
            " [15.55555556 24.44444444]]\n"
          ]
        }
      ]
    },
    {
      "cell_type": "markdown",
      "source": [
        "14. Perform a goodness-of-fit test using Python to compare the observed data to an expected distribution."
      ],
      "metadata": {
        "id": "sso-nKGx0CUt"
      }
    },
    {
      "cell_type": "code",
      "source": [
        "import scipy.stats as stats\n",
        "import numpy as np\n",
        "\n",
        "def chi_square_goodness_of_fit(observed_frequencies, expected_probabilities, alpha=0.05):\n",
        "  \"\"\"\n",
        "  Performs a Chi-Square goodness-of-fit test.\n",
        "\n",
        "  Args:\n",
        "    observed_frequencies: An array of observed frequencies.\n",
        "    expected_probabilities: An array of expected probabilities for each category.\n",
        "    alpha: Significance level (default: 0.05).\n",
        "\n",
        "  Returns:\n",
        "    chi2_stat: Chi-square statistic.\n",
        "    p_value: P-value of the test.\n",
        "\n",
        "  Raises:\n",
        "    ValueError: If any expected frequencies are less than 5.\n",
        "\n",
        "  Prints:\n",
        "    The Chi-square statistic and p-value.\n",
        "    Interpretation of the results based on the p-value and significance level.\n",
        "    Warning if any expected frequencies are less than 5.\n",
        "  \"\"\"\n",
        "  total_observations = sum(observed_frequencies)\n",
        "  expected_frequencies = np.array(expected_probabilities) * total_observations\n",
        "\n",
        "  # Check for expected frequencies less than 5\n",
        "  if any(expected_frequencies < 5):\n",
        "    print(\"Warning: Some expected frequencies are less than 5. Chi-square test results may not be reliable.\")\n",
        "\n",
        "  chi2_stat, p_value = stats.chisquare(observed_frequencies, f_exp=expected_frequencies)\n",
        "\n",
        "  print(f\"Chi-square statistic: {chi2_stat:.4f}\")\n",
        "  print(f\"P-value: {p_value:.4f}\")\n",
        "\n",
        "  if p_value < alpha:\n",
        "    print(f\"Reject the null hypothesis. Observed frequencies do not fit the expected distribution at the {alpha*100:.0f}% significance level.\")\n",
        "  else:\n",
        "    print(f\"Fail to reject the null hypothesis. Observed frequencies may fit the expected distribution at the {alpha*100:.0f}% significance level.\")\n",
        "\n",
        "  return chi2_stat, p_value\n",
        "\n",
        "# Example usage: Simulate data from a uniform distribution\n",
        "num_categories = 4\n",
        "total_observations = 100\n",
        "expected_probabilities = np.full(num_categories, 1/num_categories)  # Uniform distribution\n",
        "\n",
        "# Simulate observed frequencies\n",
        "observed_frequencies = np.random.multinomial(total_observations, expected_probabilities)\n",
        "\n",
        "# Perform the Chi-square test\n",
        "chi2_stat, p_value = chi_square_goodness_of_fit(observed_frequencies, expected_probabilities)"
      ],
      "metadata": {
        "id": "7rg_3d150DkJ",
        "colab": {
          "base_uri": "https://localhost:8080/"
        },
        "outputId": "95c21e7c-138e-4f3f-e60f-5d3fa885b3c8"
      },
      "execution_count": 6,
      "outputs": [
        {
          "output_type": "stream",
          "name": "stdout",
          "text": [
            "Chi-square statistic: 0.4800\n",
            "P-value: 0.9233\n",
            "Fail to reject the null hypothesis. Observed frequencies may fit the expected distribution at the 5% significance level.\n"
          ]
        }
      ]
    },
    {
      "cell_type": "markdown",
      "source": [
        "15. Create a Python script to simulate and visualize the Chi-square distribution and discuss its characteristics."
      ],
      "metadata": {
        "id": "MSsYx46L0HKD"
      }
    },
    {
      "cell_type": "code",
      "source": [
        "import numpy as np\n",
        "import matplotlib.pyplot as plt\n",
        "import scipy.stats as stats\n",
        "\n",
        "def simulate_chi_square(df, num_samples=1000):\n",
        "  \"\"\"\n",
        "  Simulates random samples from a Chi-square distribution.\n",
        "\n",
        "  Args:\n",
        "    df: Degrees of freedom.\n",
        "    num_samples: Number of samples to simulate.\n",
        "\n",
        "  Returns:\n",
        "    samples: Array of simulated Chi-square values.\n",
        "  \"\"\"\n",
        "  samples = np.random.chisquare(df, size=num_samples)\n",
        "  return samples\n",
        "\n",
        "# Example usage\n",
        "df = 5\n",
        "num_samples = 1000\n",
        "\n",
        "chi_square_samples = simulate_chi_square(df, num_samples)\n",
        "\n",
        "# Visualize\n",
        "plt.hist(chi_square_samples, bins=30, density=True)\n",
        "x = np.linspace(0, 20, 100)\n",
        "plt.plot(x, stats.chi2.pdf(x, df), color='red')\n",
        "plt.xlabel('Chi-square Value')\n",
        "plt.ylabel('Probability Density')\n",
        "plt.title(f'Chi-square Distribution (df={df})')\n",
        "plt.show()"
      ],
      "metadata": {
        "id": "z72VlIDq0IxV",
        "colab": {
          "base_uri": "https://localhost:8080/",
          "height": 472
        },
        "outputId": "7f40bd7e-25a4-4b5c-dbaa-fe6a7437bea4"
      },
      "execution_count": 5,
      "outputs": [
        {
          "output_type": "display_data",
          "data": {
            "text/plain": [
              "<Figure size 640x480 with 1 Axes>"
            ],
            "image/png": "[encoded data removed]"
          },
          "metadata": {}
        }
      ]
    },
    {
      "cell_type": "markdown",
      "source": [
        "16. Implement an F-test using Python to compare the variances of two random samples."
      ],
      "metadata": {
        "id": "Mu6D6Xfh0MWG"
      }
    },
    {
      "cell_type": "code",
      "source": [
        "import scipy.stats as stats\n",
        "\n",
        "def f_test_variances(sample1, sample2):\n",
        "  \"\"\"\n",
        "  Performs an F-test to compare the variances of two samples.\n",
        "\n",
        "  Args:\n",
        "    sample1: First sample.\n",
        "    sample2: Second sample.\n",
        "\n",
        "  Returns:\n",
        "    f_statistic: F-statistic.\n",
        "    p_value: P-value of the test.\n",
        "  \"\"\"\n",
        "  f_statistic, p_value = stats.f_oneway(sample1, sample2)\n",
        "  return f_statistic, p_value\n",
        "\n",
        "# Example usage\n",
        "sample1 = [10, 12, 15, 18, 20]\n",
        "sample2 = [8, 10, 11, 13, 14]\n",
        "\n",
        "f_stat, p_value = f_test_variances(sample1, sample2)\n",
        "print(f\"F-statistic: {f_stat}\")\n",
        "print(f\"P-value: {p_value}\")"
      ],
      "metadata": {
        "id": "4dPWwooG0Ncd",
        "colab": {
          "base_uri": "https://localhost:8080/"
        },
        "outputId": "ab71c292-f447-4a8e-affd-7684f2f7bf29"
      },
      "execution_count": 16,
      "outputs": [
        {
          "output_type": "stream",
          "name": "stdout",
          "text": [
            "F-statistic: 3.1806167400881047\n",
            "P-value: 0.11236112337282168\n"
          ]
        }
      ]
    },
    {
      "cell_type": "markdown",
      "source": [
        "17. Write a Python program to perform an ANOVA test to compare means between multiple groups and\n",
        "interpret the results."
      ],
      "metadata": {
        "id": "fC1_AC1U0QVj"
      }
    },
    {
      "cell_type": "code",
      "source": [
        "import scipy.stats as stats\n",
        "\n",
        "def one_way_anova(groups):\n",
        "  \"\"\"\n",
        "  Performs a one-way ANOVA test.\n",
        "\n",
        "  Args:\n",
        "    groups: List of groups (each group is a list of values).\n",
        "\n",
        "  Returns:\n",
        "    f_statistic: F-statistic.\n",
        "    p_value: P-value of the test.\n",
        "  \"\"\"\n",
        "  f_statistic, p_value = stats.f_oneway(*groups)\n",
        "  return f_statistic, p_value\n",
        "\n",
        "# Example usage\n",
        "group1 = [10, 12, 15, 18, 20]\n",
        "group2 = [8, 10, 11, 13, 14]\n",
        "group3 = [15, 17, 19, 21, 23]\n",
        "\n",
        "f_stat, p_value = one_way_anova([group1, group2, group3])\n",
        "print(f\"F-statistic: {f_stat}\")\n",
        "print(f\"P-value: {p_value}\")"
      ],
      "metadata": {
        "id": "oyH-tiU60RO6",
        "colab": {
          "base_uri": "https://localhost:8080/"
        },
        "outputId": "662195e1-0a8f-402d-f2fb-90d5715dd269"
      },
      "execution_count": 17,
      "outputs": [
        {
          "output_type": "stream",
          "name": "stdout",
          "text": [
            "F-statistic: 6.978593272171254\n",
            "P-value: 0.009762066614805122\n"
          ]
        }
      ]
    },
    {
      "cell_type": "markdown",
      "source": [
        "18. Perform a one-way ANOVA test using Python to compare the means of different groups and plot the results."
      ],
      "metadata": {
        "id": "irAattJY0YF7"
      }
    },
    {
      "cell_type": "code",
      "source": [
        "import scipy.stats as stats\n",
        "import seaborn as sns\n",
        "import matplotlib.pyplot as plt\n",
        "\n",
        "def one_way_anova(groups):\n",
        "  \"\"\"\n",
        "  Performs a one-way ANOVA test.\n",
        "\n",
        "  Args:\n",
        "    groups: A list of lists, where each sublist represents a group of data.\n",
        "\n",
        "  Returns:\n",
        "    f_statistic: The F-statistic.\n",
        "    p_value: The p-value of the test.\n",
        "\n",
        "  Prints:\n",
        "    The F-statistic and p-value.\n",
        "    Interpretation of the results based on the p-value and significance level.\n",
        "  \"\"\"\n",
        "  f_statistic, p_value = stats.f_oneway(*groups)\n",
        "  print(f\"F-statistic: {f_statistic:.4f}\")\n",
        "  print(f\"P-value: {p_value:.4f}\")\n",
        "\n",
        "  if p_value < 0.05:\n",
        "    print(\"Reject the null hypothesis. There is evidence that at least one group mean is significantly different from the others.\")\n",
        "  else:\n",
        "    print(\"Fail to reject the null hypothesis. There is no evidence that the group means are significantly different.\")\n",
        "\n",
        "  return f_statistic, p_value\n",
        "\n",
        "# Example usage\n",
        "group1 = [10, 12, 15, 18, 20]\n",
        "group2 = [8, 10, 11, 13, 14]\n",
        "group3 = [15, 17, 19, 21, 23]\n",
        "\n",
        "f_stat, p_value = one_way_anova([group1, group2, group3])\n",
        "\n",
        "# Create a boxplot to visualize group differences\n",
        "sns.boxplot(data=[group1, group2, group3])\n",
        "plt.xlabel(\"Groups\")\n",
        "plt.ylabel(\"Values\")\n",
        "plt.title(\"Boxplot of Groups\")\n",
        "plt.show()"
      ],
      "metadata": {
        "id": "kUVGiBgs0Zq0",
        "colab": {
          "base_uri": "https://localhost:8080/",
          "height": 524
        },
        "outputId": "39930534-cb44-467f-98b8-e8e344068c6f"
      },
      "execution_count": 34,
      "outputs": [
        {
          "output_type": "stream",
          "name": "stdout",
          "text": [
            "F-statistic: 6.9786\n",
            "P-value: 0.0098\n",
            "Reject the null hypothesis. There is evidence that at least one group mean is significantly different from the others.\n"
          ]
        },
        {
          "output_type": "display_data",
          "data": {
            "text/plain": [
              "<Figure size 640x480 with 1 Axes>"
            ],
            "image/png": "[encoded data removed]"
          },
          "metadata": {}
        }
      ]
    },
    {
      "cell_type": "markdown",
      "source": [
        "19. Write a Python function to check the assumptions (normality, independence, and equal variance) for ANOVA."
      ],
      "metadata": {
        "id": "tEYDwjA88e5P"
      }
    },
    {
      "cell_type": "code",
      "source": [
        "import scipy.stats as stats\n",
        "import seaborn as sns\n",
        "import matplotlib.pyplot as plt\n",
        "\n",
        "def check_anova_assumptions(groups, alpha=0.05):\n",
        "  \"\"\"\n",
        "  Checks the assumptions for ANOVA: normality and homogeneity of variances.\n",
        "\n",
        "  Args:\n",
        "    groups: List of groups (each group is a list of values).\n",
        "    alpha: Significance level for normality and homogeneity tests (default: 0.05).\n",
        "\n",
        "  Prints:\n",
        "    Results of the normality tests for each group.\n",
        "    Results of the Levene's test for homogeneity of variances.\n",
        "    Displays boxplots and histograms for visualizing the data.\n",
        "\n",
        "  Notes:\n",
        "    - Independence of observations is not directly tested by this function.\n",
        "      It needs to be assessed based on the experimental design.\n",
        "  \"\"\"\n",
        "\n",
        "  # Check normality\n",
        "  print(\"\\nNormality Tests:\")\n",
        "  for i, group in enumerate(groups):\n",
        "    stat, p_value = stats.shapiro(group)\n",
        "    if p_value > alpha:\n",
        "      print(f\"Group {i+1}: Data appears normally distributed (Shapiro-Wilk W={stat:.3f}, p={p_value:.3f})\")\n",
        "    else:\n",
        "      print(f\"Group {i+1}: Data may not be normally distributed (Shapiro-Wilk W={stat:.3f}, p={p_value:.3f})\")\n",
        "\n",
        "  # Check homogeneity of variances\n",
        "  stat, p_value = stats.levene(*groups)\n",
        "  if p_value > alpha:\n",
        "    print(f\"\\nLevene's Test for Homogeneity of Variances: Variances appear equal (Levene statistic={stat:.3f}, p={p_value:.3f})\")\n",
        "  else:\n",
        "    print(f\"\\nLevene's Test for Homogeneity of Variances: Variances may not be equal (Levene statistic={stat:.3f}, p={p_value:.3f})\")\n",
        "\n",
        "  # Visualizations\n",
        "  plt.figure(figsize=(10, 5))\n",
        "  sns.boxplot(data=groups)\n",
        "  plt.xlabel(\"Groups\")\n",
        "  plt.ylabel(\"Values\")\n",
        "  plt.title(\"Boxplot of Groups\")\n",
        "\n",
        "  plt.figure(figsize=(10, 5))\n",
        "  sns.histplot(data=groups, kde=True)\n",
        "  plt.xlabel(\"Values\")\n",
        "  plt.ylabel(\"Density\")\n",
        "  plt.title(\"Histograms of Groups\")\n",
        "  plt.show()\n",
        "\n",
        "# Example Usage (assuming you have data for multiple groups)\n",
        "group1 = [10, 12, 15, 18, 20]\n",
        "group2 = [8, 10, 11, 13, 14]\n",
        "group3 = [15, 17, 19, 21, 23]\n",
        "groups = [group1, group2, group3]\n",
        "\n",
        "check_anova_assumptions(groups)"
      ],
      "metadata": {
        "id": "v1yNLVtO8hN6",
        "colab": {
          "base_uri": "https://localhost:8080/",
          "height": 1000
        },
        "outputId": "28db9df6-6d1d-4f7c-e8e0-1d8863738f44"
      },
      "execution_count": 12,
      "outputs": [
        {
          "output_type": "stream",
          "name": "stdout",
          "text": [
            "\n",
            "Normality Tests:\n",
            "Group 1: Data appears normally distributed (Shapiro-Wilk W=0.964, p=0.832)\n",
            "Group 2: Data appears normally distributed (Shapiro-Wilk W=0.974, p=0.899)\n",
            "Group 3: Data appears normally distributed (Shapiro-Wilk W=0.987, p=0.967)\n",
            "\n",
            "Levene's Test for Homogeneity of Variances: Variances appear equal (Levene statistic=0.851, p=0.451)\n"
          ]
        },
        {
          "output_type": "display_data",
          "data": {
            "text/plain": [
              "<Figure size 1000x500 with 1 Axes>"
            ],
            "image/png": "[encoded data removed]"
          },
          "metadata": {}
        },
        {
          "output_type": "display_data",
          "data": {
            "text/plain": [
              "<Figure size 1000x500 with 1 Axes>"
            ],
            "image/png": "[encoded data removed]"
          },
          "metadata": {}
        }
      ]
    },
    {
      "cell_type": "markdown",
      "source": [
        "20.  Perform a two-way ANOVA test using Python to study the interaction between two factors and visualize the\n",
        "results."
      ],
      "metadata": {
        "id": "t-pWWc1U8qyO"
      }
    },
    {
      "cell_type": "code",
      "source": [
        "import pandas as pd\n",
        "import statsmodels.api as sm\n",
        "from statsmodels.formula.api import ols\n",
        "import seaborn as sns\n",
        "import matplotlib.pyplot as plt\n",
        "\n",
        "def two_way_anova(data, factor1, factor2, dependent_variable):\n",
        "  \"\"\"\n",
        "  Performs a two-way ANOVA test.\n",
        "\n",
        "  Args:\n",
        "    data: DataFrame containing the data.\n",
        "    factor1: Name of the first factor variable.\n",
        "    factor2: Name of the second factor variable.\n",
        "    dependent_variable: Name of the dependent variable.\n",
        "\n",
        "  Returns:\n",
        "    anova_table: ANOVA table.\n",
        "\n",
        "  Prints:\n",
        "    The ANOVA table.\n",
        "    Interpretation of the results.\n",
        "  \"\"\"\n",
        "  model = ols(f'{dependent_variable} ~ C({factor1}) + C({factor2}) + C({factor1}):C({factor2})', data=data).fit()\n",
        "  anova_table = sm.stats.anova_lm(model, typ=2)\n",
        "  print(anova_table)\n",
        "\n",
        "  # Interpretation\n",
        "  if anova_table['PR(>F)'][0] < 0.05:\n",
        "    print(f\"Main effect of {factor1} is significant.\")\n",
        "  if anova_table['PR(>F)'][1] < 0.05:\n",
        "    print(f\"Main effect of {factor2} is significant.\")\n",
        "  if anova_table['PR(>F)'][2] < 0.05:\n",
        "    print(f\"Interaction effect between {factor1} and {factor2} is significant.\")\n",
        "\n",
        "  return anova_table\n",
        "\n",
        "# Example Usage\n",
        "# Create sample data (replace with your actual data)\n",
        "data = {'factor1': ['A', 'A', 'A', 'B', 'B', 'B', 'A', 'A', 'A', 'B', 'B', 'B'],\n",
        "        'factor2': ['X', 'X', 'Y', 'X', 'X', 'Y', 'Y', 'Y', 'X', 'Y', 'Y', 'X'],\n",
        "        'dependent_variable': [10, 12, 15, 8, 10, 11, 13, 14, 16, 18, 20, 17]}\n",
        "df = pd.DataFrame(data)\n",
        "\n",
        "# Perform two-way ANOVA\n",
        "anova_table = two_way_anova(df, 'factor1', 'factor2', 'dependent_variable')\n",
        "\n",
        "# Create an interaction plot\n",
        "sns.lineplot(x='factor1', y='dependent_variable', hue='factor2', data=df)\n",
        "plt.title(\"Interaction Plot\")\n",
        "plt.show()"
      ],
      "metadata": {
        "id": "WYKNuB__8sIv",
        "colab": {
          "base_uri": "https://localhost:8080/",
          "height": 683
        },
        "outputId": "d4998331-c782-4ace-f0e9-be234609e0a1"
      },
      "execution_count": 1,
      "outputs": [
        {
          "output_type": "stream",
          "name": "stdout",
          "text": [
            "                           sum_sq   df         F    PR(>F)\n",
            "C(factor1)               1.333333  1.0  0.096970  0.763457\n",
            "C(factor2)              27.000000  1.0  1.963636  0.198705\n",
            "C(factor1):C(factor2)    8.333333  1.0  0.606061  0.458680\n",
            "Residual               110.000000  8.0       NaN       NaN\n"
          ]
        },
        {
          "output_type": "stream",
          "name": "stderr",
          "text": [
            "<ipython-input-1-9f4c77a9809a>:29: FutureWarning: Series.__getitem__ treating keys as positions is deprecated. In a future version, integer keys will always be treated as labels (consistent with DataFrame behavior). To access a value by position, use `ser.iloc[pos]`\n",
            "  if anova_table['PR(>F)'][0] < 0.05:\n",
            "<ipython-input-1-9f4c77a9809a>:31: FutureWarning: Series.__getitem__ treating keys as positions is deprecated. In a future version, integer keys will always be treated as labels (consistent with DataFrame behavior). To access a value by position, use `ser.iloc[pos]`\n",
            "  if anova_table['PR(>F)'][1] < 0.05:\n",
            "<ipython-input-1-9f4c77a9809a>:33: FutureWarning: Series.__getitem__ treating keys as positions is deprecated. In a future version, integer keys will always be treated as labels (consistent with DataFrame behavior). To access a value by position, use `ser.iloc[pos]`\n",
            "  if anova_table['PR(>F)'][2] < 0.05:\n"
          ]
        },
        {
          "output_type": "display_data",
          "data": {
            "text/plain": [
              "<Figure size 640x480 with 1 Axes>"
            ],
            "image/png": "[encoded data removed]"
          },
          "metadata": {}
        }
      ]
    },
    {
      "cell_type": "markdown",
      "source": [
        "21. Write a Python program to visualize the F-distribution and discuss its use in hypothesis testing."
      ],
      "metadata": {
        "id": "_ZXU-lua8vb2"
      }
    },
    {
      "cell_type": "code",
      "source": [
        "import numpy as np\n",
        "import matplotlib.pyplot as plt\n",
        "import scipy.stats as stats\n",
        "\n",
        "def visualize_f_distribution(df1, df2):\n",
        "  \"\"\"\n",
        "  Visualizes the F-distribution.\n",
        "\n",
        "  Args:\n",
        "    df1: Degrees of freedom for the numerator.\n",
        "    df2: Degrees of freedom for the denominator.\n",
        "  \"\"\"\n",
        "  x = np.linspace(0, 5, 100)\n",
        "  plt.plot(x, stats.f.pdf(x, df1, df2))\n",
        "  plt.xlabel('F-statistic')\n",
        "  plt.ylabel('Probability Density')\n",
        "  plt.title(f'F-distribution (df1={df1}, df2={df2})')\n",
        "  plt.show()\n",
        "\n",
        "# Example usage\n",
        "df1 = 5\n",
        "df2 = 10\n",
        "visualize_f_distribution(df1, df2)"
      ],
      "metadata": {
        "id": "mbhAhYnL8zAn",
        "colab": {
          "base_uri": "https://localhost:8080/",
          "height": 472
        },
        "outputId": "36a751c8-d65e-421e-c456-23786064de7b"
      },
      "execution_count": 19,
      "outputs": [
        {
          "output_type": "display_data",
          "data": {
            "text/plain": [
              "<Figure size 640x480 with 1 Axes>"
            ],
            "image/png": "[encoded data removed]"
          },
          "metadata": {}
        }
      ]
    },
    {
      "cell_type": "markdown",
      "source": [
        "22. Perform a one-way ANOVA test in Python and visualize the results with boxplots to compare group means."
      ],
      "metadata": {
        "id": "bTAEF7zC83hn"
      }
    },
    {
      "cell_type": "code",
      "source": [
        "import scipy.stats as stats\n",
        "import seaborn as sns\n",
        "import matplotlib.pyplot as plt\n",
        "\n",
        "def one_way_anova(groups):\n",
        "  \"\"\"\n",
        "  Performs a one-way ANOVA test.\n",
        "\n",
        "  Args:\n",
        "    groups: List of groups (each group is a list of values).\n",
        "\n",
        "  Returns:\n",
        "    f_statistic: F-statistic.\n",
        "    p_value: P-value of the test.\n",
        "  \"\"\"\n",
        "  f_statistic, p_value = stats.f_oneway(*groups)\n",
        "  return f_statistic, p_value\n",
        "\n",
        "# Example usage\n",
        "group1 = [10, 12, 15, 18, 20]\n",
        "group2 = [8, 10, 11, 13, 14]\n",
        "group3 = [15, 17, 19, 21, 23]\n",
        "\n",
        "f_stat, p_value = one_way_anova([group1, group2, group3])\n",
        "print(f\"F-statistic: {f_stat}\")\n",
        "print(f\"P-value: {p_value}\")\n",
        "\n",
        "# Visualize with boxplots\n",
        "sns.boxplot(data=[group1, group2, group3])\n",
        "plt.xlabel('Groups')\n",
        "plt.ylabel('Values')\n",
        "plt.title('Boxplot of Groups')\n",
        "plt.show()"
      ],
      "metadata": {
        "id": "CUdCFeDi84zx",
        "colab": {
          "base_uri": "https://localhost:8080/",
          "height": 507
        },
        "outputId": "4642c062-b681-4a66-8438-ab4f877c62b1"
      },
      "execution_count": 21,
      "outputs": [
        {
          "output_type": "stream",
          "name": "stdout",
          "text": [
            "F-statistic: 6.978593272171254\n",
            "P-value: 0.009762066614805122\n"
          ]
        },
        {
          "output_type": "display_data",
          "data": {
            "text/plain": [
              "<Figure size 640x480 with 1 Axes>"
            ],
            "image/png": "[encoded data removed]"
          },
          "metadata": {}
        }
      ]
    },
    {
      "cell_type": "markdown",
      "source": [
        "23. Simulate random data from a normal distribution, then perform hypothesis testing to evaluate the means."
      ],
      "metadata": {
        "id": "fwqUN9XF880t"
      }
    },
    {
      "cell_type": "code",
      "source": [
        "import numpy as np\n",
        "import scipy.stats as stats\n",
        "\n",
        "def simulate_and_test_normal(population_mean, population_std, sample_size, alpha):\n",
        "  \"\"\"\n",
        "  Simulates data from a normal distribution and performs a one-sample t-test.\n",
        "\n",
        "  Args:\n",
        "    population_mean: Population mean.\n",
        "    population_std: Population standard deviation.\n",
        "    sample_size: Sample size.\n",
        "    alpha: Significance level.\n",
        "\n",
        "  Returns:\n",
        "    t_statistic: Calculated T-statistic.\n",
        "    p_value: P-value of the test.\n",
        "  \"\"\"\n",
        "  sample = np.random.normal(loc=population_mean, scale=population_std, size=sample_size)\n",
        "  sample_mean = np.mean(sample)\n",
        "  t_statistic, p_value = stats.ttest_1samp(sample, popmean=population_mean)\n",
        "  return t_statistic, p_value\n",
        "\n",
        "# Example usage\n",
        "population_mean = 50\n",
        "population_std = 10\n",
        "sample_size = 30\n",
        "alpha = 0.05\n",
        "\n",
        "t_stat, p_value = simulate_and_test_normal(population_mean, population_std, sample_size, alpha)\n",
        "print(f\"T-statistic: {t_stat}\")\n",
        "print(f\"P-value: {p_value}\")\n",
        "\n",
        "# Interpret the results\n",
        "if p_value < alpha:\n",
        "  print(\"Reject the null hypothesis. There is evidence that the sample mean is significantly different from the population mean.\")\n",
        "else:\n",
        "  print(\"Fail to reject the null hypothesis. There is no evidence that the sample mean is significantly different from the population mean.\")"
      ],
      "metadata": {
        "id": "cfKaFycY8_HL",
        "colab": {
          "base_uri": "https://localhost:8080/"
        },
        "outputId": "307af751-ae19-4a39-c556-1f1083aa3f12"
      },
      "execution_count": 22,
      "outputs": [
        {
          "output_type": "stream",
          "name": "stdout",
          "text": [
            "T-statistic: 1.2115798749999143\n",
            "P-value: 0.23545346429588732\n",
            "Fail to reject the null hypothesis. There is no evidence that the sample mean is significantly different from the population mean.\n"
          ]
        }
      ]
    },
    {
      "cell_type": "markdown",
      "source": [
        "24.  Perform a hypothesis test for population variance using a Chi-square distribution and interpret the results."
      ],
      "metadata": {
        "id": "FcsqqSNI9Fx1"
      }
    },
    {
      "cell_type": "code",
      "source": [
        "import scipy.stats as stats\n",
        "\n",
        "def variance_test(sample, population_variance, alpha):\n",
        "  \"\"\"\n",
        "  Performs a Chi-square test for population variance.\n",
        "\n",
        "  Args:\n",
        "    sample: Sample data.\n",
        "    population_variance: Population variance.\n",
        "    alpha: Significance level.\n",
        "\n",
        "  Returns:\n",
        "    chi2_stat: Chi-square statistic.\n",
        "    p_value: P-value of the test.\n",
        "  \"\"\"\n",
        "  n = len(sample)\n",
        "  chi2_stat = ((n - 1) * np.var(sample)) / population_variance\n",
        "  p_value = stats.chi2.sf(chi2_stat, df=n - 1)\n",
        "  return chi2_stat, p_value\n",
        "\n",
        "# Example usage\n",
        "sample = [10, 12, 15, 18, 20]\n",
        "population_variance = 25\n",
        "alpha = 0.05\n",
        "\n",
        "chi2_stat, p_value = variance_test(sample, population_variance, alpha)\n",
        "print(f\"Chi-square statistic: {chi2_stat}\")\n",
        "print(f\"P-value: {p_value}\")\n",
        "\n",
        "# Interpret the results\n",
        "if p_value < alpha:\n",
        "  print(\"Reject the null hypothesis. There is evidence that the population variance is different from the specified value.\")\n",
        "else:\n",
        "  print(\"Fail to reject the null hypothesis. There is no evidence that the population variance is different from the specified value.\")"
      ],
      "metadata": {
        "id": "x35B7rlV9HNf",
        "colab": {
          "base_uri": "https://localhost:8080/"
        },
        "outputId": "6400a974-2115-4d87-8de4-152f7938d72e"
      },
      "execution_count": 23,
      "outputs": [
        {
          "output_type": "stream",
          "name": "stdout",
          "text": [
            "Chi-square statistic: 2.176\n",
            "P-value: 0.7034254839139511\n",
            "Fail to reject the null hypothesis. There is no evidence that the population variance is different from the specified value.\n"
          ]
        }
      ]
    },
    {
      "cell_type": "markdown",
      "source": [
        "25. Write a Python script to perform a Z-test for comparing proportions between two datasets or groups."
      ],
      "metadata": {
        "id": "wxmSYXck9J5n"
      }
    },
    {
      "cell_type": "code",
      "source": [
        "import scipy.stats as stats\n",
        "\n",
        "def z_test_proportions(p1, n1, p2, n2):\n",
        "  \"\"\"\n",
        "  Performs a Z-test for comparing two proportions.\n",
        "\n",
        "  Args:\n",
        "    p1: Proportion in the first group.\n",
        "    n1: Sample size in the first group.\n",
        "    p2: Proportion in the second group.\n",
        "    n2: Sample size in the second group.\n",
        "\n",
        "  Returns:\n",
        "    z_statistic: Z-statistic.\n",
        "    p_value: P-value of the test.\n",
        "  \"\"\"\n",
        "  pooled_proportion = ((p1 * n1) + (p2 * n2)) / (n1 + n2)\n",
        "  standard_error = np.sqrt(pooled_proportion * (1 - pooled_proportion) * (1/n1 + 1/n2))\n",
        "  z_statistic = (p1 - p2) / standard_error\n",
        "  p_value = stats.norm.sf(abs(z_statistic)) * 2  # Two-tailed test\n",
        "  return z_statistic, p_value\n",
        "\n",
        "# Example usage\n",
        "p1 = 0.6\n",
        "n1 = 100\n",
        "p2 = 0.5\n",
        "n2 = 120\n",
        "\n",
        "z_stat, p_value = z_test_proportions(p1, n1, p2, n2)\n",
        "print(f\"Z-statistic: {z_stat}\")\n",
        "print(f\"P-value: {p_value}\")"
      ],
      "metadata": {
        "id": "reokh15s9QpM",
        "colab": {
          "base_uri": "https://localhost:8080/"
        },
        "outputId": "2ae2ac95-8a50-40bf-8dd9-f5bc2f32da6a"
      },
      "execution_count": 24,
      "outputs": [
        {
          "output_type": "stream",
          "name": "stdout",
          "text": [
            "Z-statistic: 1.4832396974191322\n",
            "P-value: 0.1380107375686596\n"
          ]
        }
      ]
    },
    {
      "cell_type": "markdown",
      "source": [
        "26. Implement an F-test for comparing the variances of two datasets, then interpret and visualize the results."
      ],
      "metadata": {
        "id": "06ZPtozF9RNF"
      }
    },
    {
      "cell_type": "code",
      "source": [
        "import scipy.stats as stats\n",
        "\n",
        "def f_test_variances(sample1, sample2):\n",
        "  \"\"\"\n",
        "  Performs an F-test to compare the variances of two samples.\n",
        "\n",
        "  Args:\n",
        "    sample1: First sample.\n",
        "    sample2: Second sample.\n",
        "\n",
        "  Returns:\n",
        "    f_statistic: F-statistic.\n",
        "    p_value: P-value of the test.\n",
        "  \"\"\"\n",
        "  f_statistic, p_value = stats.f_oneway(sample1, sample2)\n",
        "  return f_statistic, p_value\n",
        "\n",
        "# Example usage\n",
        "sample1 = [10, 12, 15, 18, 20]\n",
        "sample2 = [8, 10, 11, 13, 14]\n",
        "\n",
        "f_stat, p_value = f_test_variances(sample1, sample2)\n",
        "print(f\"F-statistic: {f_stat}\")\n",
        "print(f\"P-value: {p_value}\")"
      ],
      "metadata": {
        "id": "T16lZXCs9TH_",
        "colab": {
          "base_uri": "https://localhost:8080/"
        },
        "outputId": "4c57905d-3744-40f0-8447-551831db6a48"
      },
      "execution_count": 25,
      "outputs": [
        {
          "output_type": "stream",
          "name": "stdout",
          "text": [
            "F-statistic: 3.1806167400881047\n",
            "P-value: 0.11236112337282168\n"
          ]
        }
      ]
    },
    {
      "cell_type": "markdown",
      "source": [
        "27. Perform a Chi-square test for goodness of fit with simulated data and analyze the results."
      ],
      "metadata": {
        "id": "kqSkYIYz9c4c"
      }
    },
    {
      "cell_type": "code",
      "source": [
        "import numpy as np\n",
        "import scipy.stats as stats\n",
        "\n",
        "def chi_square_goodness_of_fit(observed_frequencies, expected_probabilities, alpha=0.05):\n",
        "  \"\"\"\n",
        "  Performs a Chi-square goodness-of-fit test.\n",
        "\n",
        "  Args:\n",
        "    observed_frequencies: An array of observed frequencies.\n",
        "    expected_probabilities: An array of expected probabilities for each category.\n",
        "    alpha: Significance level (default: 0.05).\n",
        "\n",
        "  Returns:\n",
        "    chi2_stat: Chi-square statistic.\n",
        "    p_value: P-value of the test.\n",
        "\n",
        "  Prints:\n",
        "    The Chi-square statistic and p-value.\n",
        "    Interpretation of the results based on the p-value and significance level.\n",
        "  \"\"\"\n",
        "  total_observations = sum(observed_frequencies)\n",
        "  expected_frequencies = np.array(expected_probabilities) * total_observations\n",
        "\n",
        "  chi2_stat, p_value = stats.chisquare(observed_frequencies, f_exp=expected_frequencies)\n",
        "\n",
        "  print(f\"Chi-square statistic: {chi2_stat:.4f}\")\n",
        "  print(f\"P-value: {p_value:.4f}\")\n",
        "\n",
        "  if p_value < alpha:\n",
        "    print(f\"Reject the null hypothesis. Observed frequencies do not fit the expected distribution at the {alpha*100:.0f}% significance level.\")\n",
        "  else:\n",
        "    print(f\"Fail to reject the null hypothesis. Observed frequencies may fit the expected distribution at the {alpha*100:.0f}% significance level.\")\n",
        "\n",
        "  return chi2_stat, p_value\n",
        "\n",
        "# Example usage: Simulate data from a uniform distribution\n",
        "num_categories = 4\n",
        "total_observations = 100\n",
        "expected_probabilities = np.full(num_categories, 1/num_categories)  # Uniform distribution\n",
        "\n",
        "# Simulate observed frequencies\n",
        "observed_frequencies = np.random.multinomial(total_observations, expected_probabilities)\n",
        "\n",
        "# Perform the Chi-square test\n",
        "chi2_stat, p_value = chi_square_goodness_of_fit(observed_frequencies, expected_probabilities)"
      ],
      "metadata": {
        "id": "x2ldMeGB9eNX",
        "colab": {
          "base_uri": "https://localhost:8080/"
        },
        "outputId": "72c101aa-e413-427e-d337-f7041654f63a"
      },
      "execution_count": 37,
      "outputs": [
        {
          "output_type": "stream",
          "name": "stdout",
          "text": [
            "Chi-square statistic: 2.7200\n",
            "P-value: 0.4368\n",
            "Fail to reject the null hypothesis. Observed frequencies may fit the expected distribution at the 5% significance level.\n"
          ]
        }
      ]
    }
  ]
}